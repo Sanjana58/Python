{
 "cells": [
  {
   "cell_type": "markdown",
   "metadata": {},
   "source": [
    "## program to print max int value\n",
    "#include <stdio.h>\n",
    "#include<limits.h>\n",
    "void main()\n",
    "{\n",
    "    int a;\n",
    "    a=INT_MAX;\n",
    "    printf(\"%d\",a);\n",
    "}\n"
   ]
  },
  {
   "cell_type": "markdown",
   "metadata": {},
   "source": [
    "## program to find min int value\n",
    "#include <stdio.h>\n",
    "#include<limits.h>\n",
    "void main()\n",
    "{\n",
    "    int a;\n",
    "    a=INT_MIN;\n",
    "    printf(\"%d\",a);\n",
    "}\n"
   ]
  },
  {
   "cell_type": "markdown",
   "metadata": {},
   "source": [
    "## program to print ASCII values\n",
    "#include <stdio.h>\n",
    "void main()\n",
    "{\n",
    "    int i;\n",
    "    for(i=0;i<=200;i++)\n",
    "    printf(\"%c=%d\",i,i);\n",
    "}\n"
   ]
  },
  {
   "cell_type": "markdown",
   "metadata": {},
   "source": [
    "# program for specifiers\n",
    "## octal %o\n",
    "#include <stdio.h>\n",
    "void main()\n",
    "{\n",
    "    int i=29;\n",
    "    printf(\"%o\",i);\n",
    "}\n"
   ]
  },
  {
   "cell_type": "markdown",
   "metadata": {},
   "source": [
    "## hexadecimal %x\n",
    "#include <stdio.h>\n",
    "void main()\n",
    "{\n",
    "    int i=035;\n",
    "    printf(\"%x\",i);\n",
    "}\n"
   ]
  },
  {
   "cell_type": "markdown",
   "metadata": {},
   "source": [
    "## %d \n",
    "include<stdio.h>\n",
    "void main()\n",
    "{\n",
    "    int i=0x35;\n",
    "    printf(\"%d\",i);\n",
    "}\n",
    "\n",
    "output:53"
   ]
  },
  {
   "cell_type": "markdown",
   "metadata": {},
   "source": [
    "# Arithmetic operators\n",
    "\n",
    "#include <stdio.h>\n",
    "void main()\n",
    "{\n",
    "    printf(\"%d\",10+'a');\n",
    "}\n",
    "output:107"
   ]
  },
  {
   "cell_type": "markdown",
   "metadata": {},
   "source": [
    "#include <stdio.h>\n",
    "void main()\n",
    "{\n",
    "    printf(\"%d\",'b'+'a');\n",
    "}\n",
    "\n",
    "\n",
    "output:193"
   ]
  },
  {
   "cell_type": "markdown",
   "metadata": {},
   "source": [
    "#include <stdio.h>\n",
    "void main()\n",
    "{\n",
    "    float a;\n",
    "    a=fmod(20.5,3.2);\n",
    "    printf(\"%f\",a);\n",
    "}\n"
   ]
  },
  {
   "cell_type": "markdown",
   "metadata": {},
   "source": [
    "#include <stdio.h>\n",
    "void main()\n",
    "{\n",
    "    int b,a=5;\n",
    "    b=++a;\n",
    "    printf(\"%d %d\",a,b);\n",
    "}\n",
    "output:6 6"
   ]
  },
  {
   "cell_type": "markdown",
   "metadata": {},
   "source": [
    "#include <stdio.h>\n",
    "void main()\n",
    "{\n",
    "    int b,a=5;\n",
    "    printf(\"%d\\n\",a++);\n",
    "    printf(\"%d\",a);\n",
    "}\n",
    "output:5\n",
    "6\n"
   ]
  },
  {
   "cell_type": "markdown",
   "metadata": {},
   "source": [
    "#include <stdio.h>\n",
    "void main()\n",
    "{\n",
    "    int c;\n",
    "    c=printf(\"hello\\n\");\n",
    "    printf(\"\\n%d\",c);\n",
    "}\n",
    "output:hello\n",
    "6"
   ]
  },
  {
   "cell_type": "markdown",
   "metadata": {},
   "source": [
    "#include <stdio.h>\n",
    "void main()\n",
    "{\n",
    "    int a,b,c;\n",
    "    c=scanf(\"%d%d\",&a,&b);\n",
    "    printf(\"\\n%d\",c);\n",
    "}\n",
    "output:input=10,20\n",
    "output is 2\n"
   ]
  },
  {
   "cell_type": "markdown",
   "metadata": {},
   "source": [
    "# Logical operators\n",
    "## AND:\n",
    "#include <stdio.h>\n",
    "void main()\n",
    "{\n",
    "    int a=5,b=0,c;\n",
    "    c=b&&a++;\n",
    "    printf(\"%d\",a);\n",
    "}\n",
    "output:5"
   ]
  },
  {
   "cell_type": "markdown",
   "metadata": {},
   "source": [
    "#include <stdio.h>\n",
    "void main()\n",
    "{\n",
    "    int a=5,b=0,c;\n",
    "    c=b&&++a;\n",
    "    printf(\"%d\",a);\n",
    "}\n",
    "output:5"
   ]
  },
  {
   "cell_type": "markdown",
   "metadata": {},
   "source": [
    "#include <stdio.h>\n",
    "void main()\n",
    "{\n",
    "    int a=5,b=8,c;\n",
    "    c=b&&++a;\n",
    "    printf(\"%d\",a);\n",
    "}\n",
    "output:6\n"
   ]
  },
  {
   "cell_type": "markdown",
   "metadata": {},
   "source": [
    "## Or:\n",
    "#include <stdio.h>\n",
    "void main()\n",
    "{\n",
    "    int a=5,b=0,c;\n",
    "    c=b||++a;\n",
    "    printf(\"%d\",a);\n",
    "}\n",
    "output:6"
   ]
  },
  {
   "cell_type": "markdown",
   "metadata": {},
   "source": [
    "## precedence of && and ||:\n",
    "#include <stdio.h>\n",
    "void main()\n",
    "{\n",
    "    int a=5,b=6,c,d=0;\n",
    "    c=b||a&&d;\n",
    "    printf(\"%d\",c);\n",
    "}\n",
    "output:1"
   ]
  },
  {
   "cell_type": "markdown",
   "metadata": {},
   "source": [
    "## Bitwise operators:\n",
    "#include <stdio.h>\n",
    "void main()\n",
    "{\n",
    "    int a=5,b=6,c;\n",
    "    c=a^b;\n",
    "    printf(\"%d\",c);\n",
    "}\n",
    "o/p:3"
   ]
  },
  {
   "cell_type": "markdown",
   "metadata": {},
   "source": [
    "#include <stdio.h>\n",
    "void main()\n",
    "{\n",
    "    int a=5,b=6,c;\n",
    "    c=a>>1;;\n",
    "    printf(\"%d\",c);\n",
    "}\n",
    "o/p:2\n"
   ]
  },
  {
   "cell_type": "markdown",
   "metadata": {},
   "source": [
    "#include <stdio.h>\n",
    "void main()\n",
    "{\n",
    "    int a=5,b=6,c;\n",
    "    c=a<<1;;\n",
    "    printf(\"%d\",c);\n",
    "}\n",
    "o/p:10\n"
   ]
  },
  {
   "cell_type": "markdown",
   "metadata": {},
   "source": [
    "#include <stdio.h>\n",
    "void main()\n",
    "{\n",
    "    int a=5;\n",
    "    a=~5;\n",
    "    printf(\"%d\",a);\n",
    "}\n",
    "o/p:-6"
   ]
  },
  {
   "cell_type": "markdown",
   "metadata": {},
   "source": [
    "# Relational operators:\n",
    "#include <stdio.h>\n",
    "void main()\n",
    "{\n",
    "    int a=5,b=6;\n",
    "    if(a==b)\n",
    "    printf(\"yes\");\n",
    "    else\n",
    "    printf(\"no\");\n",
    "    printf(\"%d\",a);\n",
    "}\n",
    "o/p:no\n",
    "5\n"
   ]
  },
  {
   "cell_type": "markdown",
   "metadata": {},
   "source": [
    "#include <stdio.h>\n",
    "void main()\n",
    "{\n",
    "    int a=5,b=6;\n",
    "    if(a=b)\n",
    "    printf(\"yes\");\n",
    "    else\n",
    "    printf(\"no\");\n",
    "    printf(\"%d\",a);\n",
    "}\n",
    "output: yes\n",
    "6"
   ]
  },
  {
   "cell_type": "markdown",
   "metadata": {},
   "source": [
    "#include <stdio.h>\n",
    "void main()\n",
    "{\n",
    "    int a=5,b=8;\n",
    "    if(a!=b)\n",
    "    printf(\"yes\");\n",
    "    else\n",
    "    printf(\"no\");\n",
    "    printf(\"%d\",a);\n",
    "}\n",
    "o/p:yes\n",
    "5"
   ]
  },
  {
   "cell_type": "markdown",
   "metadata": {},
   "source": [
    "#include <stdio.h>\n",
    "void main()\n",
    "{\n",
    "    int a=5,b=8;\n",
    "    if(a)\n",
    "    printf(\"yes\");\n",
    "    else\n",
    "    printf(\"no\");\n",
    "    printf(\"%d\",a);\n",
    "}\n",
    "o/p:yes\n",
    "5"
   ]
  },
  {
   "cell_type": "markdown",
   "metadata": {},
   "source": [
    "#include <stdio.h>\n",
    "void main()\n",
    "{\n",
    "    int a=5,b=8;\n",
    "    if(0)\n",
    "    printf(\"yes\");\n",
    "    else\n",
    "    printf(\"no\");\n",
    "    printf(\"%d\",a);\n",
    "}\n",
    "o/p:no\n",
    "5"
   ]
  },
  {
   "cell_type": "markdown",
   "metadata": {},
   "source": [
    "# Assignment operator\n",
    "#include <stdio.h>\n",
    "void main()\n",
    "{\n",
    "    int a=5;\n",
    "    a*=6;\n",
    "    printf(\"%d\",a);\n",
    "}\n",
    "o/p:30"
   ]
  },
  {
   "cell_type": "markdown",
   "metadata": {},
   "source": [
    "#include <stdio.h>\n",
    "void main()\n",
    "{\n",
    "    int a;\n",
    "    printf(\"%d\",sizeof(a));\n",
    "}\n",
    "o/p:4"
   ]
  },
  {
   "cell_type": "markdown",
   "metadata": {},
   "source": [
    "#include <stdio.h>\n",
    "void main()\n",
    "{\n",
    "    long double a;\n",
    "    printf(\"%d\",sizeof(a));\n",
    "}\n",
    "o/p:16"
   ]
  },
  {
   "cell_type": "markdown",
   "metadata": {},
   "source": [
    "#include <stdio.h>\n",
    "void main()\n",
    "{\n",
    "    long a;\n",
    "    printf(\"%d\",sizeof(a));\n",
    "}\n",
    "o/p:8"
   ]
  },
  {
   "cell_type": "markdown",
   "metadata": {},
   "source": [
    "#include <stdio.h>\n",
    "void main()\n",
    "{\n",
    "    int a=5,b;\n",
    "    b=sizeof(a++);\n",
    "    printf(\"%d %d\",a,b);\n",
    "}\n",
    "o/p:5\n",
    "4"
   ]
  },
  {
   "cell_type": "markdown",
   "metadata": {},
   "source": [
    "#include <stdio.h>\n",
    "void main()\n",
    "{\n",
    "    int a=5,b;\n",
    "    b=sizeof(++a);\n",
    "    printf(\"%d %d\",a,b);\n",
    "}\n",
    "o/p:5\n",
    "4"
   ]
  },
  {
   "cell_type": "markdown",
   "metadata": {},
   "source": [
    "# Ternary operators\n",
    "#include <stdio.h>\n",
    "void main()\n",
    "{\n",
    "    int a=5,b=6,c;\n",
    "    c=a<b?a:b;\n",
    "    printf(\"%d\",c);\n",
    "}\n",
    "o/p:5"
   ]
  },
  {
   "cell_type": "markdown",
   "metadata": {},
   "source": [
    "#include <stdio.h>\n",
    "void main()\n",
    "{\n",
    "    int a=6,b=5,c;\n",
    "    c=a?0:1;\n",
    "    printf(\"%d\",c);\n",
    "}\n",
    "o/p:0"
   ]
  },
  {
   "cell_type": "code",
   "execution_count": null,
   "metadata": {},
   "outputs": [],
   "source": []
  }
 ],
 "metadata": {
  "kernelspec": {
   "display_name": "Python 3",
   "language": "python",
   "name": "python3"
  },
  "language_info": {
   "codemirror_mode": {
    "name": "ipython",
    "version": 3
   },
   "file_extension": ".py",
   "mimetype": "text/x-python",
   "name": "python",
   "nbconvert_exporter": "python",
   "pygments_lexer": "ipython3",
   "version": "3.7.3"
  }
 },
 "nbformat": 4,
 "nbformat_minor": 2
}
